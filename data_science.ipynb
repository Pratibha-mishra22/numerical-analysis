{
  "cells": [
    {
      "cell_type": "markdown",
      "metadata": {
        "id": "view-in-github",
        "colab_type": "text"
      },
      "source": [
        "<a href=\"https://colab.research.google.com/github/Pratibha-mishra22/numerical-analysis/blob/main/data_science.ipynb\" target=\"_parent\"><img src=\"https://colab.research.google.com/assets/colab-badge.svg\" alt=\"Open In Colab\"/></a>"
      ]
    },
    {
      "cell_type": "code",
      "execution_count": null,
      "metadata": {
        "colab": {
          "base_uri": "https://localhost:8080/"
        },
        "id": "d6zuryikUO7J",
        "outputId": "d57de583-f84c-4119-e21b-78f26bf15919"
      },
      "outputs": [
        {
          "name": "stdout",
          "output_type": "stream",
          "text": [
            "enter the upper bound 100\n",
            "enter the lower bound 30\n",
            "31\n",
            "37\n",
            "41\n",
            "43\n",
            "47\n",
            "53\n",
            "59\n",
            "61\n",
            "67\n",
            "71\n",
            "73\n",
            "79\n",
            "83\n",
            "89\n",
            "97\n"
          ]
        }
      ],
      "source": [
        "#list of prime numbers from given range\n",
        "upper=int(input(\"enter the upper bound \"))\n",
        "lower=int(input(\"enter the lower bound \"))\n",
        "\n",
        "for i in range (lower,upper+1):\n",
        "  for j in range(2,i):\n",
        "    if(i%j==0):\n",
        "      break\n",
        "  else :\n",
        "     print(i)\n",
        "\n",
        "\n",
        "\n",
        "\n",
        "\n",
        "\n",
        "\n"
      ]
    },
    {
      "cell_type": "code",
      "execution_count": null,
      "metadata": {
        "id": "WRfRTZa-o_dq"
      },
      "outputs": [],
      "source": [
        "from google.colab import drive\n",
        "drive.mount('https://drive.google.com/file/d/1hq0Z5hO2bC25jAYdApTnvSWdCKyn6x9z/view?usp=drive_link')"
      ]
    },
    {
      "cell_type": "markdown",
      "metadata": {
        "id": "RSR8LtZAG6Xg"
      },
      "source": [
        "1 **BASICS OF CODING R/PYTHON**1.1 Using Comments R/Python"
      ]
    },
    {
      "cell_type": "code",
      "execution_count": null,
      "metadata": {
        "colab": {
          "base_uri": "https://localhost:8080/"
        },
        "id": "_f1lLxAcEnKw",
        "outputId": "72d4e476-beac-475c-cb7f-631f13d72d37"
      },
      "outputs": [
        {
          "data": {
            "text/plain": [
              "False"
            ]
          },
          "execution_count": 4,
          "metadata": {},
          "output_type": "execute_result"
        }
      ],
      "source": [
        "\n",
        "# This is a comment in Python\n",
        "\n",
        "# This is another comment\n",
        "x = 10  # Assigning a value to a variable\n",
        "# This is a comment in R\n",
        "\n",
        "# This is another comment\n",
        "x <- 10  # Assigning a value to a variable"
      ]
    },
    {
      "cell_type": "markdown",
      "metadata": {
        "id": "zUHhPFKPG1bT"
      },
      "source": [
        "1.2 Executing Commands R/Python\n"
      ]
    },
    {
      "cell_type": "code",
      "execution_count": null,
      "metadata": {
        "id": "6PF_PaFCG0oP"
      },
      "outputs": [],
      "source": [
        "  #using python\n",
        "\n",
        "    import subprocess\n",
        "\n",
        "   command = \"your_command_here\";\n",
        "   result = subprocess.call(command, shell=True);\n",
        "   print(result);"
      ]
    },
    {
      "cell_type": "markdown",
      "metadata": {
        "id": "N7kFfezbJwAF"
      },
      "source": [
        "1.3 Importing Packages R/Python\n"
      ]
    },
    {
      "cell_type": "code",
      "execution_count": null,
      "metadata": {
        "colab": {
          "background_save": true,
          "base_uri": "https://localhost:8080/"
        },
        "id": "lRM8wFpzJ5xV",
        "outputId": "cabadc23-81d6-473e-afcb-1ff70e1483e8"
      },
      "outputs": [
        {
          "name": "stderr",
          "output_type": "stream",
          "text": [
            "/usr/local/lib/python3.10/dist-packages/ipykernel/ipkernel.py:283: DeprecationWarning: `should_run_async` will not call `transform_cell` automatically in the future. Please pass the result to `transformed_cell` argument and any exception that happen during thetransform in `preprocessing_exc_tuple` in IPython 7.17 and above.\n",
            "  and should_run_async(code)\n"
          ]
        }
      ],
      "source": [
        " import math\n",
        "a=int(input(\"give a number\"))\n",
        "sqrt = a\n",
        "print(a)\n",
        "\n"
      ]
    },
    {
      "cell_type": "markdown",
      "metadata": {
        "id": "uABpnQgn8A04"
      },
      "source": [
        "1.4 Accessing Records and Variables R/Python"
      ]
    },
    {
      "cell_type": "code",
      "execution_count": null,
      "metadata": {
        "colab": {
          "base_uri": "https://localhost:8080/",
          "height": 310
        },
        "id": "eA6Ut6Kf8FeO",
        "outputId": "be4920cc-2fec-4e61-d196-7e66f5efee5d"
      },
      "outputs": [
        {
          "name": "stderr",
          "output_type": "stream",
          "text": [
            "/usr/local/lib/python3.10/dist-packages/ipykernel/ipkernel.py:283: DeprecationWarning: `should_run_async` will not call `transform_cell` automatically in the future. Please pass the result to `transformed_cell` argument and any exception that happen during thetransform in `preprocessing_exc_tuple` in IPython 7.17 and above.\n",
            "  and should_run_async(code)\n"
          ]
        },
        {
          "ename": "FileNotFoundError",
          "evalue": "ignored",
          "output_type": "error",
          "traceback": [
            "\u001b[0;31m---------------------------------------------------------------------------\u001b[0m",
            "\u001b[0;31mFileNotFoundError\u001b[0m                         Traceback (most recent call last)",
            "\u001b[0;32m<ipython-input-11-8009793be5da>\u001b[0m in \u001b[0;36m<cell line: 2>\u001b[0;34m()\u001b[0m\n\u001b[1;32m      1\u001b[0m \u001b[0;31m# Reading from a file\u001b[0m\u001b[0;34m\u001b[0m\u001b[0;34m\u001b[0m\u001b[0m\n\u001b[0;32m----> 2\u001b[0;31m \u001b[0;32mwith\u001b[0m \u001b[0mopen\u001b[0m\u001b[0;34m(\u001b[0m\u001b[0;34m\"data.txt\"\u001b[0m\u001b[0;34m,\u001b[0m \u001b[0;34m\"r\"\u001b[0m\u001b[0;34m)\u001b[0m \u001b[0;32mas\u001b[0m \u001b[0mfile\u001b[0m\u001b[0;34m:\u001b[0m\u001b[0;34m\u001b[0m\u001b[0;34m\u001b[0m\u001b[0m\n\u001b[0m\u001b[1;32m      3\u001b[0m     \u001b[0mdata\u001b[0m \u001b[0;34m=\u001b[0m \u001b[0mfile\u001b[0m\u001b[0;34m.\u001b[0m\u001b[0mread\u001b[0m\u001b[0;34m(\u001b[0m\u001b[0;34m)\u001b[0m\u001b[0;34m\u001b[0m\u001b[0;34m\u001b[0m\u001b[0m\n\u001b[1;32m      4\u001b[0m     \u001b[0mprint\u001b[0m\u001b[0;34m(\u001b[0m\u001b[0mdata\u001b[0m\u001b[0;34m)\u001b[0m\u001b[0;34m\u001b[0m\u001b[0;34m\u001b[0m\u001b[0m\n\u001b[1;32m      5\u001b[0m \u001b[0;34m\u001b[0m\u001b[0m\n",
            "\u001b[0;31mFileNotFoundError\u001b[0m: [Errno 2] No such file or directory: 'data.txt'"
          ]
        }
      ],
      "source": [
        "    # Reading from a file\n",
        "    with open(\"data.txt\", \"r\") as file:\n",
        "        data = file.read()\n",
        "        print(data)\n",
        "\n",
        "    # Writing to a file\n",
        "    with open(\"data.txt\", \"w\") as file:\n",
        "        file.write(\"Hello, World!\")\n"
      ]
    },
    {
      "cell_type": "markdown",
      "metadata": {
        "id": "kChH0gX18QQL"
      },
      "source": [
        "1.5 Saving Output R/Python"
      ]
    },
    {
      "cell_type": "code",
      "execution_count": null,
      "metadata": {
        "id": "p4RZU5Pw8VQ6"
      },
      "outputs": [],
      "source": [
        "# Saving output as a text file\n",
        "my_output = \"Hello, World!\"\n",
        "with open(\"output.txt\", \"w\") as file:\n",
        "    file.write(my_output)\n",
        "# Saving output as a variable\n",
        "my_output = 1 + 2\n",
        "# Saving output as a list\n",
        "my_output = [1, 2, 3]"
      ]
    },
    {
      "cell_type": "markdown",
      "metadata": {
        "id": "CDavWMQy8WYW"
      },
      "source": [
        "1.6 getting data into r/python"
      ]
    },
    {
      "cell_type": "code",
      "execution_count": null,
      "metadata": {
        "id": "3mmZK1fv88r2"
      },
      "outputs": [],
      "source": [
        "name = input(\"Enter your name: \")\n",
        "age = int(input(\"Enter your age: \"))\n",
        "\n",
        "# 'name' and 'age' variables now contain the user's input\n",
        "import csv\n",
        "\n",
        "data = []\n",
        "with open('data.csv', 'r') as file:\n",
        "    csv_reader = csv.reader(file)\n",
        "    for row in csv_reader:\n",
        "        data.append(row)\n",
        "\n",
        "# Now 'data' contains the data read from the CSV file"
      ]
    },
    {
      "cell_type": "markdown",
      "metadata": {
        "id": "GnopaCil89Mn"
      },
      "source": [
        "**2 DATA PREPARATION**\n",
        "2.1 how to add an index field using R/python"
      ]
    },
    {
      "cell_type": "code",
      "execution_count": null,
      "metadata": {
        "colab": {
          "base_uri": "https://localhost:8080/"
        },
        "id": "_WI0qivU9QZh",
        "outputId": "4f87c205-4490-44ed-c3c5-bd499326b635"
      },
      "outputs": [
        {
          "name": "stdout",
          "output_type": "stream",
          "text": [
            "1. apple\n",
            "2. banana\n",
            "3. orange\n"
          ]
        }
      ],
      "source": [
        "def add_index(lst):\n",
        "    return [(i, item) for i, item in enumerate(lst, start=1)]\n",
        "\n",
        "# Test example\n",
        "items = ['apple', 'banana', 'orange']\n",
        "indexed_items = add_index(items)\n",
        "for index, item in indexed_items:\n",
        "    print(f'{index}. {item}')"
      ]
    },
    {
      "cell_type": "markdown",
      "metadata": {
        "id": "EcDSoLf29R29"
      },
      "source": [
        "2.2 how to change misleading field values using R/python"
      ]
    },
    {
      "cell_type": "code",
      "execution_count": null,
      "metadata": {
        "id": "3fUFKWtH9aPm"
      },
      "outputs": [],
      "source": [
        "import csv\n",
        "\n",
        "def change_misleading_values(filename):\n",
        "    # Read the dataset from the CSV file\n",
        "    with open(filename, 'r') as file:\n",
        "        reader = csv.reader(file)\n",
        "        dataset = list(reader)\n",
        "\n",
        "    # Iterate over each row in the dataset\n",
        "    for row in dataset:\n",
        "        # Check and modify specific field values\n",
        "        if row[3] == \"OFF\":\n",
        "            row[3] = \"ON\"\n",
        "        if row[4] == \"FALSE\":\n",
        "            row[4] = \"TRUE\"\n",
        "        # Add more conditions and modifications as needed\n",
        "\n",
        "    # Write the updated dataset back to the CSV file\n",
        "    with open(filename, 'w', newline='') as file:\n",
        "        writer = csv.writer(file)\n",
        "        writer.writerows(dataset)\n",
        "\n",
        "# Usage example\n",
        "change_misleading_values('data.csv')"
      ]
    },
    {
      "cell_type": "markdown",
      "metadata": {
        "id": "COLgJgP69nXE"
      },
      "source": [
        "2.3 how to reexpress caregorial field values using R/ python"
      ]
    },
    {
      "cell_type": "code",
      "execution_count": null,
      "metadata": {
        "id": "-yReKLlb9yjm"
      },
      "outputs": [],
      "source": [
        "import pandas as pd\n",
        "\n",
        "# Create a sample dataframe with a categorical field\n",
        "data = {'Name': ['John', 'Jane', 'Mark', 'Alice'],\n",
        "        'Gender': ['Male', 'Female', 'Male', 'Female']}\n",
        "df = pd.DataFrame(data)\n",
        "\n",
        "# Define a function to re-express the categorical field values\n",
        "def reexpress_category(value):\n",
        "    if value == 'Male':\n",
        "        return 1\n",
        "    elif value == 'Female':\n",
        "        return 2\n",
        "    else:\n",
        "        return 0  # Default value if the category doesn't match any condition\n",
        "\n",
        "# Apply the reexpress_category function to the 'Gender' column\n",
        "df['Gender_Reexpressed'] = df['Gender'].apply(reexpress_category)\n",
        "\n",
        "# Print the resulting dataframe\n",
        "print(df)"
      ]
    },
    {
      "cell_type": "markdown",
      "metadata": {
        "id": "Z_YLmfHT9zIT"
      },
      "source": [
        "2.4 how to standardise numeric fields using R /python"
      ]
    },
    {
      "cell_type": "code",
      "execution_count": null,
      "metadata": {
        "colab": {
          "base_uri": "https://localhost:8080/"
        },
        "id": "UBhAlvTV978t",
        "outputId": "fe063cb5-e832-4e30-b44f-002ad40d7c99"
      },
      "outputs": [
        {
          "name": "stdout",
          "output_type": "stream",
          "text": [
            "Original data: [5, 10, 15, 20, 25]\n",
            "Standardized data: [-1.41421356 -0.70710678  0.          0.70710678  1.41421356]\n"
          ]
        }
      ],
      "source": [
        "import numpy as np\n",
        "\n",
        "def standardize_numeric_field(data):\n",
        "    # Convert the data to a numpy array\n",
        "    data = np.array(data)\n",
        "\n",
        "    # Calculate the mean and standard deviation of the data\n",
        "    mean = np.mean(data)\n",
        "    std = np.std(data)\n",
        "\n",
        "    # Standardize the data using the Z-score method\n",
        "    standardized_data = (data - mean) / std\n",
        "\n",
        "    return standardized_data\n",
        "\n",
        "# Example usage\n",
        "numeric_field = [5, 10, 15, 20, 25]  # Replace with your own numeric field data\n",
        "standardized_field = standardize_numeric_field(numeric_field)\n",
        "\n",
        "print(f\"Original data: {numeric_field}\")\n",
        "print(f\"Standardized data: {standardized_field}\")"
      ]
    },
    {
      "cell_type": "markdown",
      "metadata": {
        "id": "KT2kvzAY98lg"
      },
      "source": [
        "2.5 how to identify outliers using R/python"
      ]
    },
    {
      "cell_type": "code",
      "execution_count": null,
      "metadata": {
        "colab": {
          "base_uri": "https://localhost:8080/"
        },
        "id": "QQV90b_L-Efe",
        "outputId": "51279270-086a-4d66-c557-7dd40edc1bac"
      },
      "outputs": [
        {
          "name": "stdout",
          "output_type": "stream",
          "text": [
            "Outliers: [100]\n"
          ]
        }
      ],
      "source": [
        "import statistics\n",
        "\n",
        "def find_outliers(data):\n",
        "    # Calculate the mean and standard deviation of the data\n",
        "    mean = statistics.mean(data)\n",
        "    stdev = statistics.stdev(data)\n",
        "\n",
        "    # Define the threshold for outliers (e.g. beyond 2 standard deviations)\n",
        "    threshold = 2 * stdev\n",
        "\n",
        "    # Identify the outliers\n",
        "    outliers = [x for x in data if abs(x - mean) > threshold]\n",
        "\n",
        "    return outliers\n",
        "\n",
        "# Example usage\n",
        "data = [4, 8, 6, 1, 2, 9, 12, 9, 10, 13, 15, 19, 20, 22, 27, 30, 100]\n",
        "outliers = find_outliers(data)\n",
        "print(\"Outliers:\", outliers)"
      ]
    },
    {
      "cell_type": "markdown",
      "metadata": {
        "id": "uHT7S6Ze-FaF"
      },
      "source": [
        "3 **EXPLORATORY DATA ANALYSIS**\n",
        "3.1 how to construct a bar graph with overlay using python"
      ]
    },
    {
      "cell_type": "code",
      "execution_count": null,
      "metadata": {
        "colab": {
          "base_uri": "https://localhost:8080/",
          "height": 472
        },
        "id": "jqB85kPM-Uuj",
        "outputId": "36408c45-ae05-438c-8868-03531c75dc5b"
      },
      "outputs": [
        {
          "data": {
            "image/png": "[encoded data removed]",
            "text/plain": [
              "<Figure size 640x480 with 1 Axes>"
            ]
          },
          "metadata": {},
          "output_type": "display_data"
        }
      ],
      "source": [
        "import matplotlib.pyplot as plt\n",
        "\n",
        "# Sample data\n",
        "categories = ['Category 1', 'Category 2', 'Category 3', 'Category 4']\n",
        "values1 = [15, 24, 35, 27]\n",
        "values2 = [17, 28, 32, 25]\n",
        "\n",
        "# Set the width of the bars\n",
        "bar_width = 0.35\n",
        "\n",
        "# Create a figure and axes\n",
        "fig, ax = plt.subplots()\n",
        "\n",
        "# Create the first set of bars\n",
        "bars1 = ax.bar(categories, values1, width=bar_width, label='Set 1')\n",
        "\n",
        "# Create the second set of bars\n",
        "bars2 = ax.bar(categories, values2, width=bar_width, label='Set 2', alpha=0.5)\n",
        "\n",
        "# Add labels and title\n",
        "ax.set_xlabel('Categories')\n",
        "ax.set_ylabel('Values')\n",
        "ax.set_title('Bar Graph with Overlay')\n",
        "ax.legend()\n",
        "\n",
        "# Display the bar graph\n",
        "plt.show()"
      ]
    },
    {
      "cell_type": "markdown",
      "metadata": {
        "id": "wvYRhUQG-Vji"
      },
      "source": [
        "3.2 how to construct contigency table using python"
      ]
    },
    {
      "cell_type": "code",
      "execution_count": null,
      "metadata": {
        "colab": {
          "base_uri": "https://localhost:8080/"
        },
        "id": "-qAPuFH4-dwj",
        "outputId": "6a276bff-18bb-4ae4-a264-0fe4a1ac771b"
      },
      "outputs": [
        {
          "name": "stdout",
          "output_type": "stream",
          "text": [
            "{1: [3, 3], 2: [3, 3], 3: [3, 3]}\n"
          ]
        }
      ],
      "source": [
        "def construct_contingency_table(data1, data2):\n",
        "    table = {}\n",
        "\n",
        "    # Count occurrences of each value in data1\n",
        "    for value in data1:\n",
        "        if value in table:\n",
        "            table[value][0] += 1\n",
        "        else:\n",
        "            table[value] = [1, 0]\n",
        "\n",
        "    # Count occurrences of each value in data2\n",
        "    for value in data2:\n",
        "        if value in table:\n",
        "            table[value][1] += 1\n",
        "        else:\n",
        "            table[value] = [0, 1]\n",
        "\n",
        "    return table\n",
        "\n",
        "# Example usage\n",
        "data1 = [1, 2, 3, 1, 2, 3, 1, 2, 3]\n",
        "data2 = [1, 1, 1, 2, 2, 2, 3, 3, 3]\n",
        "\n",
        "contingency_table = construct_contingency_table(data1, data2)\n",
        "print(contingency_table)"
      ]
    },
    {
      "cell_type": "markdown",
      "metadata": {
        "id": "5XGdwYIT-eQv"
      },
      "source": [
        "3.3 how to construct histograms with overlay using python"
      ]
    },
    {
      "cell_type": "code",
      "execution_count": null,
      "metadata": {
        "colab": {
          "base_uri": "https://localhost:8080/",
          "height": 472
        },
        "id": "yGRuBtyKQm9R",
        "outputId": "bc16e2ab-fcd8-4a57-9ae8-823a09db4ef5"
      },
      "outputs": [
        {
          "data": {
            "image/png": "[encoded data removed]",
            "text/plain": [
              "<Figure size 640x480 with 1 Axes>"
            ]
          },
          "metadata": {},
          "output_type": "display_data"
        }
      ],
      "source": [
        "import matplotlib.pyplot as plt\n",
        "\n",
        "# Data\n",
        "data1 = [1, 2, 2, 3, 4, 5, 5, 6, 6, 6, 7, 8, 8, 9]\n",
        "data2 = [2, 3, 4, 4, 5, 5, 5, 6, 7, 8, 8, 9, 9, 9, 10]\n",
        "\n",
        "# Create histogram\n",
        "plt.hist(data1, bins=range(1, 12), alpha=0.5, label='Data 1')\n",
        "plt.hist(data2, bins=range(1, 12), alpha=0.5, label='Data 2')\n",
        "\n",
        "# Add labels and title\n",
        "plt.xlabel('Value')\n",
        "plt.ylabel('Frequency')\n",
        "plt.title('Histogram with Overlay')\n",
        "\n",
        "# Add legend\n",
        "plt.legend()\n",
        "\n",
        "# Display the histogram\n",
        "plt.show()"
      ]
    },
    {
      "cell_type": "markdown",
      "metadata": {
        "id": "ApBXQAs--pFp"
      },
      "source": [
        "3.4 how to perform binning based on predective values using python"
      ]
    },
    {
      "cell_type": "code",
      "execution_count": null,
      "metadata": {
        "colab": {
          "base_uri": "https://localhost:8080/",
          "height": 253
        },
        "id": "Pl5KtdKXQkK5",
        "outputId": "1ecb5a6a-6db9-433f-f3ad-0d5b40919f4e"
      },
      "outputs": [
        {
          "ename": "NameError",
          "evalue": "ignored",
          "output_type": "error",
          "traceback": [
            "\u001b[0;31m---------------------------------------------------------------------------\u001b[0m",
            "\u001b[0;31mNameError\u001b[0m                                 Traceback (most recent call last)",
            "\u001b[0;32m<ipython-input-5-55de6e870572>\u001b[0m in \u001b[0;36m<cell line: 18>\u001b[0;34m()\u001b[0m\n\u001b[1;32m     16\u001b[0m \u001b[0;34m\u001b[0m\u001b[0m\n\u001b[1;32m     17\u001b[0m \u001b[0;31m# Calculate the predictive values\u001b[0m\u001b[0;34m\u001b[0m\u001b[0;34m\u001b[0m\u001b[0m\n\u001b[0;32m---> 18\u001b[0;31m \u001b[0mbin_values\u001b[0m \u001b[0;34m=\u001b[0m \u001b[0mdf\u001b[0m\u001b[0;34m.\u001b[0m\u001b[0mgroupby\u001b[0m\u001b[0;34m(\u001b[0m\u001b[0mdata\u001b[0m\u001b[0;34m)\u001b[0m\u001b[0;34m[\u001b[0m\u001b[0mTarget\u001b[0m\u001b[0;34m]\u001b[0m\u001b[0;34m.\u001b[0m\u001b[0mmean\u001b[0m\u001b[0;34m(\u001b[0m\u001b[0;34m)\u001b[0m\u001b[0;34m\u001b[0m\u001b[0;34m\u001b[0m\u001b[0m\n\u001b[0m\u001b[1;32m     19\u001b[0m \u001b[0;34m\u001b[0m\u001b[0m\n\u001b[1;32m     20\u001b[0m \u001b[0;31m# Perform binning\u001b[0m\u001b[0;34m\u001b[0m\u001b[0;34m\u001b[0m\u001b[0m\n",
            "\u001b[0;31mNameError\u001b[0m: name 'Target' is not defined"
          ]
        }
      ],
      "source": [
        "import pandas as pd\n",
        "\n",
        "\n",
        "# Load the dataset\n",
        "df = pd.read_csv('https://drive.google.com/file/d/1hq0Z5hO2bC25jAYdApTnvSWdCKyn6x9z/view?usp=drive_link')\n",
        "\n",
        "\n",
        "# Define the target variable column\n",
        "target_variable = 'target'\n",
        "\n",
        "# Define the column to perform binning\n",
        "binning_column = 'data'\n",
        "\n",
        "# Define the number of bins\n",
        "num_bins = 5\n",
        "\n",
        "# Calculate the predictive values\n",
        "bin_values = df.groupby(data)[Target].mean()\n",
        "\n",
        "# Perform binning\n",
        "df['binned_values'] = pd.cut(df[data], bins=num_bins, labels=False)\n",
        "df['binned_values'].replace(bin_values, inplace=True)\n",
        "\n",
        "# Print the resulting dataframe\n",
        "print(df)"
      ]
    },
    {
      "cell_type": "markdown",
      "metadata": {
        "id": "ASXJCAPotEfK"
      },
      "source": [
        "# New Section"
      ]
    },
    {
      "cell_type": "markdown",
      "metadata": {
        "id": "UlGoy-q7tvjH"
      },
      "source": [
        "4 **DATA PREPARATION PHASE TO MODEL THE DATA**4.1 how to partition the data using python"
      ]
    },
    {
      "cell_type": "code",
      "execution_count": null,
      "metadata": {
        "id": "IQJVYFestvIA"
      },
      "outputs": [],
      "source": [
        "from imblearn.over_sampling import RandomOverSampler\n",
        "import numpy as np\n",
        "\n",
        "# Assuming you have a dataset with features (X) and corresponding labels (y)\n",
        "X = ...  # Your feature matrix\n",
        "y = ...  # Your label vector\n",
        "\n",
        "# Count the number of samples in each class\n",
        "count_class_0 = np.sum(y == 0)\n",
        "count_class_1 = np.sum(y == 1)\n",
        "\n",
        "# Determine the minority and majority classes\n",
        "minority_class = 1 if count_class_1 < count_class_0 else 0\n",
        "\n",
        "# Create an instance of RandomOverSampler\n",
        "oversampler = RandomOverSampler(sampling_strategy='minority')\n",
        "\n",
        "# Perform oversampling on the dataset\n",
        "X_resampled, y_resampled = oversampler.fit_resample(X, y)\n",
        "\n",
        "# Verify the new sample count in each class\n",
        "count_class_0_resampled = np.sum(y_resampled == 0)\n",
        "count_class_1_resampled = np.sum(y_resampled == 1)\n",
        "\n",
        "print(\"Original class counts:\")\n",
        "print(f\"Class 0: {count_class_0}\")\n",
        "print(f\"Class 1: {count_class_1}\")\n",
        "print(\"\\nBalanced class counts (after oversampling):\")\n",
        "print(f\"Class 0: {count_class_0_resampled}\")\n",
        "print(f\"Class 1: {count_class_1_resampled}\")"
      ]
    },
    {
      "cell_type": "markdown",
      "metadata": {
        "id": "Ao-51IGntgWT"
      },
      "source": [
        "4.2 how to balance the training data set using python"
      ]
    },
    {
      "cell_type": "code",
      "execution_count": null,
      "metadata": {
        "id": "7pamoZZ4zjr7"
      },
      "outputs": [],
      "source": [
        "from sklearn.utils import resample\n",
        "\n",
        "# Assuming you have two arrays: features (X) and labels (y)\n",
        "# Also assuming binary classification, where 0 represents the majority class and 1 represents the minority class\n",
        "\n",
        "\n",
        "# Count the number of instances in each class\n",
        "class_0_count = len(y[y == 0])\n",
        "class_1_count = len(y[y == 1])\n",
        "\n",
        "# Undersample the majority class to match the count of the minority class\n",
        "class_0_indices = np.where(y == 0)[0]\n",
        "undersampled_indices = np.concatenate((class_0_indices, np.random.choice(np.where(y == 1)[0], class_1_count, replace=False)))\n",
        "\n",
        "X_balanced = X[undersampled_indices]\n",
        "y_balanced = y[undersampled_indices]"
      ]
    },
    {
      "cell_type": "code",
      "execution_count": null,
      "metadata": {
        "id": "YkV3fRnx_OjR"
      },
      "outputs": [],
      "source": [
        "import numpy as np\n",
        "from imblearn.over_sampling import SMOTE\n",
        "\n",
        "# Assuming you have a numpy array X containing input features and y containing class labels.\n",
        "X=[inputfeatures]\n",
        "y=[classlabels]\n",
        "# Count the occurrences of each class in the dataset\n",
        "class_counts = np.bincount(y)\n",
        "\n",
        "# Find the minority class with the minimum count\n",
        "minority_class = np.argmin(class_counts)\n",
        "\n",
        "# Get the indices of the minority class samples\n",
        "minority_indices = np.where(y == minority_class)[0]\n",
        "\n",
        "# Create a new input feature array and class label array for the minority class samples\n",
        "X_minority = X[minority_indices]\n",
        "y_minority = y[minority_indices]\n",
        "\n",
        "# Apply SMOTE for oversampling the minority class\n",
        "smote = SMOTE()\n",
        "X_balanced, y_balanced = smote.fit_resample(X, y)\n",
        "\n",
        "# Print the class counts after balancing\n",
        "print(np.bincount(y_balanced))"
      ]
    },
    {
      "cell_type": "markdown",
      "metadata": {
        "id": "OEI-y3D0_PVr"
      },
      "source": [
        "4.3 how to build CART decision trees using python"
      ]
    },
    {
      "cell_type": "code",
      "execution_count": null,
      "metadata": {
        "id": "1cfpVE3e_WGR"
      },
      "outputs": [],
      "source": [
        "import pandas as pd\n",
        "from sklearn.datasets import load_iris\n",
        "from sklearn.tree import DecisionTreeClassifier\n",
        "from sklearn.model_selection import train_test_split\n",
        "from sklearn.metrics import accuracy_score\n",
        "\n",
        "# Load dataset\n",
        "#data = pd.read_csv('data.csv')\n",
        "df = pd.DataFrame(data.data, columns=data.feature_names)\n",
        "\n",
        "# Split dataset into features and target variable\n",
        "X = data.drop('target', axis=1)\n",
        "y = data['target']\n",
        "\n",
        "# Split dataset into training and test sets\n",
        "X_train, X_test, y_train, y_test = train_test_split(X, y, test_size=0.2, random_state=42)\n",
        "\n",
        "# Build CART decision tree model\n",
        "model = DecisionTreeClassifier()\n",
        "model.fit(X_train, y_train)\n",
        "\n",
        "# Predict on the test set\n",
        "y_pred = model.predict(X_test)\n",
        "\n",
        "# Calculate accuracy of the model\n",
        "accuracy = accuracy_score(y_test, y_pred)\n",
        "print(\"Accuracy:\", accuracy)"
      ]
    },
    {
      "cell_type": "markdown",
      "metadata": {
        "id": "eIfNtrA-_WnE"
      },
      "source": [
        "4.4 how to build c5.0 decision trees using python"
      ]
    },
    {
      "cell_type": "code",
      "execution_count": null,
      "metadata": {
        "id": "hevQuQx-_dQd"
      },
      "outputs": [],
      "source": [
        "# Import the c50 library\n",
        "import c50\n",
        "\n",
        "# Load the dataset\n",
        "dataset = c50.Data(\"\")\n",
        "\n",
        "# Create a C5.0 decision tree classifier\n",
        "classifier = c50.C50()\n",
        "\n",
        "# Build the decision tree\n",
        "tree = classifier.fit(dataset)\n",
        "\n",
        "# Evaluate the decision tree on the training dataset\n",
        "predicted_labels = tree.predict(dataset)\n",
        "\n",
        "# Print the predicted labels\n",
        "print(predicted_labels)"
      ]
    },
    {
      "cell_type": "markdown",
      "metadata": {
        "id": "SAC5DkZv_dx6"
      },
      "source": [
        "4.5 how to build random forests using python"
      ]
    },
    {
      "cell_type": "code",
      "execution_count": null,
      "metadata": {
        "id": "L0nINvF__j87"
      },
      "outputs": [],
      "source": [
        "# Import the required libraries\n",
        "from sklearn.ensemble import RandomForestClassifier\n",
        "from sklearn.datasets import load_iris\n",
        "from sklearn.model_selection import train_test_split\n",
        "from sklearn.metrics import accuracy_score\n",
        "\n",
        "# Load the dataset\n",
        "iris = load_iris()\n",
        "X = iris.data\n",
        "y = iris.target\n",
        "\n",
        "# Split the dataset into training and testing sets\n",
        "X_train, X_test, y_train, y_test = train_test_split(X, y, test_size=0.2, random_state=42)\n",
        "\n",
        "# Create an instance of the Random Forest Classifier\n",
        "rf_classifier = RandomForestClassifier(n_estimators=100)\n",
        "\n",
        "# Train the classifier on the training data\n",
        "rf_classifier.fit(X_train, y_train)\n",
        "\n",
        "# Use the trained classifier to make predictions on the test data\n",
        "predictions = rf_classifier.predict(X_test)\n",
        "\n",
        "# Calculate the accuracy of the classifier\n",
        "accuracy = accuracy_score(y_test, predictions)\n",
        "print(\"Accuracy: {:.2f}%\".format(accuracy * 100))"
      ]
    },
    {
      "cell_type": "markdown",
      "metadata": {
        "id": "Nr0gQsEo_kkt"
      },
      "source": [
        "**5 MODEL EVALUATION** 5.1 how to perform model evaluation using python"
      ]
    },
    {
      "cell_type": "code",
      "execution_count": null,
      "metadata": {
        "colab": {
          "base_uri": "https://localhost:8080/"
        },
        "id": "GjhGTUEY_tDX",
        "outputId": "860bfe74-c017-4fa4-e5af-7761ec0ff8ad"
      },
      "outputs": [
        {
          "name": "stdout",
          "output_type": "stream",
          "text": [
            "Accuracy:  1.0\n",
            "Classification Report:\n",
            "               precision    recall  f1-score   support\n",
            "\n",
            "           0       1.00      1.00      1.00        10\n",
            "           1       1.00      1.00      1.00         9\n",
            "           2       1.00      1.00      1.00        11\n",
            "\n",
            "    accuracy                           1.00        30\n",
            "   macro avg       1.00      1.00      1.00        30\n",
            "weighted avg       1.00      1.00      1.00        30\n",
            "\n"
          ]
        }
      ],
      "source": [
        "import pandas as pd\n",
        "from sklearn.datasets import load_iris\n",
        "from sklearn.model_selection import train_test_split\n",
        "from sklearn.tree import DecisionTreeClassifier\n",
        "from sklearn.metrics import accuracy_score, classification_report\n",
        "\n",
        "# Load the Iris dataset\n",
        "data = load_iris()\n",
        "df = pd.DataFrame(data.data, columns=data.feature_names)\n",
        "target = data.target\n",
        "\n",
        "# Split the dataset into training and testing sets\n",
        "X_train, X_test, y_train, y_test = train_test_split(df, target, test_size=0.2, random_state=42)\n",
        "\n",
        "# Build the decision tree classifier\n",
        "clf = DecisionTreeClassifier()\n",
        "clf.fit(X_train, y_train)\n",
        "\n",
        "# Evaluate the model on the testing set\n",
        "y_pred = clf.predict(X_test)\n",
        "\n",
        "# Calculate accuracy score\n",
        "accuracy = accuracy_score(y_test, y_pred)\n",
        "print(\"Accuracy: \", accuracy)\n",
        "\n",
        "# Generate classification report\n",
        "report = classification_report(y_test, y_pred)\n",
        "print(\"Classification Report:\\n\", report)"
      ]
    },
    {
      "cell_type": "markdown",
      "metadata": {
        "id": "apQSS8dM_t1B"
      },
      "source": [
        "5.2 Accounting for unequal error costs using python"
      ]
    },
    {
      "cell_type": "code",
      "execution_count": null,
      "metadata": {
        "colab": {
          "base_uri": "https://localhost:8080/"
        },
        "id": "IFVSpTPL_3h5",
        "outputId": "72f6915b-2806-4458-ecc8-13756038ecf8"
      },
      "outputs": [
        {
          "name": "stdout",
          "output_type": "stream",
          "text": [
            "Total Cost: 550\n"
          ]
        }
      ],
      "source": [
        "def calculate_cost(tp, tn, fp, fn, cost_tp, cost_tn, cost_fp, cost_fn):\n",
        "    total_cost = (tp * cost_tp) + (tn * cost_tn) + (fp * cost_fp) + (fn * cost_fn)\n",
        "    return total_cost\n",
        "\n",
        "# Example usage\n",
        "tp = 50  # True Positives\n",
        "tn = 100  # True Negatives\n",
        "fp = 20  # False Positives\n",
        "fn = 10  # False Negatives\n",
        "\n",
        "# Cost of each type of error\n",
        "cost_tp = 4  # Cost of True Positive\n",
        "cost_tn = 1  # Cost of True Negative\n",
        "cost_fp = 10  # Cost of False Positive\n",
        "cost_fn = 5  # Cost of False Negative\n",
        "\n",
        "total_cost = calculate_cost(tp, tn, fp, fn, cost_tp, cost_tn, cost_fp, cost_fn)\n",
        "print(\"Total Cost:\", total_cost)"
      ]
    },
    {
      "cell_type": "markdown",
      "metadata": {
        "id": "QBleqacY_3_A"
      },
      "source": [
        "6 **NAIVE BAYES CLASSIFICATION** 6.1 demonstrate application of naive bayesvusing python"
      ]
    },
    {
      "cell_type": "code",
      "execution_count": null,
      "metadata": {
        "colab": {
          "base_uri": "https://localhost:8080/"
        },
        "id": "9-7BIYeQAIsB",
        "outputId": "86512ed2-a636-4523-e5c9-393a62bb1d2f"
      },
      "outputs": [
        {
          "name": "stdout",
          "output_type": "stream",
          "text": [
            "Accuracy: 0.9777777777777777\n"
          ]
        }
      ],
      "source": [
        "from sklearn.datasets import load_iris\n",
        "from sklearn.model_selection import train_test_split\n",
        "from sklearn.naive_bayes import GaussianNB\n",
        "from sklearn import metrics\n",
        "\n",
        "# Load the Iris dataset\n",
        "iris = load_iris()\n",
        "\n",
        "# Split the dataset into features and labels\n",
        "X = iris.data\n",
        "y = iris.target\n",
        "\n",
        "# Split the dataset into training and testing sets\n",
        "X_train, X_test, y_train, y_test = train_test_split(X, y, test_size=0.3, random_state=42)\n",
        "\n",
        "# Create a Naive Bayes classifier\n",
        "classifier = GaussianNB()\n",
        "\n",
        "# Train the classifier using the training data\n",
        "classifier.fit(X_train, y_train)\n",
        "\n",
        "# Make predictions on the testing data\n",
        "y_pred = classifier.predict(X_test)\n",
        "\n",
        "# Compare the predicted labels with the actual labels\n",
        "accuracy = metrics.accuracy_score(y_test, y_pred)\n",
        "print(\"Accuracy:\", accuracy)"
      ]
    },
    {
      "cell_type": "markdown",
      "metadata": {
        "id": "dfYpFKL-AbMZ"
      },
      "source": [
        "**7 NEURAL NETWORKS** 7.1 Demonstrate application of neural networks using python"
      ]
    },
    {
      "cell_type": "code",
      "execution_count": null,
      "metadata": {
        "colab": {
          "base_uri": "https://localhost:8080/",
          "height": 501
        },
        "id": "RwQj6ZEMAXVr",
        "outputId": "b8e4ac40-8301-4375-8b15-fbaa6129f55f"
      },
      "outputs": [
        {
          "name": "stdout",
          "output_type": "stream",
          "text": [
            "1500/1500 [==============================] - 6s 4ms/step - loss: 0.0383 - accuracy: 0.9886 - val_loss: 0.0990 - val_accuracy: 0.9724\n",
            "Epoch 10/10\n",
            "1500/1500 [==============================] - 5s 3ms/step - loss: 0.0320 - accuracy: 0.9904 - val_loss: 0.0994 - val_accuracy: 0.9737\n",
            "313/313 [==============================] - 1s 2ms/step - loss: 0.0894 - accuracy: 0.9748\n",
            "Test loss: 0.08937682211399078\n",
            "Test accuracy: 0.9747999906539917\n"
          ]
        },
        {
          "data": {
            "image/png": "[encoded data removed]",
            "text/plain": [
              "<Figure size 1200x400 with 2 Axes>"
            ]
          },
          "metadata": {},
          "output_type": "display_data"
        }
      ],
      "source": [
        "import numpy as np\n",
        "import matplotlib.pyplot as plt\n",
        "from keras.datasets import mnist\n",
        "from keras.models import Sequential\n",
        "from keras.layers import Dense, Flatten\n",
        "from keras.utils import to_categorical\n",
        "\n",
        "# Load MNIST dataset\n",
        "(x_train, y_train), (x_test, y_test) = mnist.load_data()\n",
        "\n",
        "# Preprocess data\n",
        "x_train = x_train.reshape((-1, 28 * 28)) / 255\n",
        "x_test = x_test.reshape((-1, 28 * 28)) / 255\n",
        "y_train = to_categorical(y_train)\n",
        "y_test = to_categorical(y_test)\n",
        "\n",
        "# Create neural network model\n",
        "model = Sequential()\n",
        "model.add(Dense(64, activation='relu', input_shape=(28 * 28,)))\n",
        "model.add(Dense(10, activation='softmax'))\n",
        "\n",
        "# Compile model\n",
        "model.compile(optimizer='adam', loss='categorical_crossentropy', metrics=['accuracy'])\n",
        "\n",
        "# Train model\n",
        "history = model.fit(x_train, y_train, epochs=10, batch_size=32, validation_split=0.2)\n",
        "\n",
        "# Evaluate model on test data\n",
        "loss, accuracy = model.evaluate(x_test, y_test)\n",
        "print('Test loss:', loss)\n",
        "print('Test accuracy:', accuracy)\n",
        "\n",
        "# Plot accuracy and loss curves during training\n",
        "plt.figure(figsize=(12, 4))\n",
        "plt.subplot(1, 2, 1)\n",
        "plt.plot(history.history['accuracy'], label='Training Accuracy')\n",
        "plt.plot(history.history['val_accuracy'], label='Validation Accuracy')\n",
        "plt.xlabel('Epoch')\n",
        "plt.ylabel('Accuracy')\n",
        "plt.legend()\n",
        "plt.subplot(1, 2, 2)\n",
        "plt.plot(history.history['loss'], label='Training Loss')\n",
        "plt.plot(history.history['val_loss'], label='Validation Loss')\n",
        "plt.xlabel('Epoch')\n",
        "plt.ylabel('Loss')\n",
        "plt.legend()\n",
        "plt.show()"
      ]
    },
    {
      "cell_type": "markdown",
      "metadata": {
        "id": "yj5FYKwNAzkK"
      },
      "source": [
        "**8 CLUSTERING** 8.1 demonstrate application of k-means clustering using python"
      ]
    },
    {
      "cell_type": "code",
      "execution_count": null,
      "metadata": {
        "colab": {
          "base_uri": "https://localhost:8080/",
          "height": 528
        },
        "id": "6zEleci4BZtX",
        "outputId": "c538902b-693c-46e1-8ed8-7b18f5458a48"
      },
      "outputs": [
        {
          "name": "stderr",
          "output_type": "stream",
          "text": [
            "/usr/local/lib/python3.10/dist-packages/sklearn/cluster/_kmeans.py:870: FutureWarning: The default value of `n_init` will change from 10 to 'auto' in 1.4. Set the value of `n_init` explicitly to suppress the warning\n",
            "  warnings.warn(\n"
          ]
        },
        {
          "data": {
            "image/png": "[encoded data removed]",
            "text/plain": [
              "<Figure size 640x480 with 1 Axes>"
            ]
          },
          "metadata": {},
          "output_type": "display_data"
        }
      ],
      "source": [
        "import numpy as np\n",
        "import matplotlib.pyplot as plt\n",
        "from sklearn.cluster import KMeans\n",
        "\n",
        "# Generate some sample data\n",
        "np.random.seed(0)\n",
        "n_samples = 100\n",
        "X = np.random.randn(n_samples, 2)\n",
        "\n",
        "# Apply k-means clustering\n",
        "k = 3\n",
        "kmeans = KMeans(n_clusters=k)\n",
        "kmeans.fit(X)\n",
        "labels = kmeans.labels_\n",
        "centroids = kmeans.cluster_centers_\n",
        "\n",
        "# Plot the data points and centroids\n",
        "plt.scatter(X[:, 0], X[:, 1], c=labels)\n",
        "plt.scatter(centroids[:, 0], centroids[:, 1], marker='x', color='red')\n",
        "plt.title('K-means Clustering')\n",
        "plt.xlabel('X')\n",
        "plt.ylabel('Y')\n",
        "plt.show()"
      ]
    },
    {
      "cell_type": "markdown",
      "metadata": {
        "id": "w5L3AsUpBaXq"
      },
      "source": [
        " **9 REGRESSION MODELLING** 9.1 demonstrate estimation model evaluation using python"
      ]
    },
    {
      "cell_type": "code",
      "execution_count": null,
      "metadata": {
        "colab": {
          "base_uri": "https://localhost:8080/"
        },
        "id": "pWZA6VBTCf-6",
        "outputId": "066a13ff-dce3-41f4-a838-d39506d93f7e"
      },
      "outputs": [
        {
          "name": "stdout",
          "output_type": "stream",
          "text": [
            "Mean Squared Error: 4.1737335262780695\n",
            "Mean Absolute Error: 1.8072876967365203\n",
            "Root Mean Squared Error: 2.0429717389817386\n"
          ]
        }
      ],
      "source": [
        "import numpy as np\n",
        "from sklearn.linear_model import LinearRegression\n",
        "from sklearn.model_selection import train_test_split\n",
        "from sklearn.metrics import mean_squared_error, mean_absolute_error\n",
        "\n",
        "# Generate sample data\n",
        "np.random.seed(0)\n",
        "X = np.random.rand(100, 1) * 10\n",
        "y = 2 * X + 1 + np.random.randn(100, 1) * 2\n",
        "\n",
        "# Split the data into training and testing sets\n",
        "X_train, X_test, y_train, y_test = train_test_split(X, y, test_size=0.2, random_state=0)\n",
        "\n",
        "# Create a linear regression model\n",
        "model = LinearRegression()\n",
        "\n",
        "# Train the model on the training data\n",
        "model.fit(X_train, y_train)\n",
        "\n",
        "# Make predictions on the test data\n",
        "y_pred = model.predict(X_test)\n",
        "\n",
        "# Evaluate the model using various metrics\n",
        "mse = mean_squared_error(y_test, y_pred)\n",
        "mae = mean_absolute_error(y_test, y_pred)\n",
        "rmse = np.sqrt(mse)\n",
        "\n",
        "# Print the evaluation metrics\n",
        "print(\"Mean Squared Error:\", mse)\n",
        "print(\"Mean Absolute Error:\", mae)\n",
        "print(\"Root Mean Squared Error:\", rmse)"
      ]
    },
    {
      "cell_type": "markdown",
      "metadata": {
        "id": "NmLDzlbvCgaZ"
      },
      "source": [
        "9.2 demonstrate stepwise regression using python"
      ]
    },
    {
      "cell_type": "code",
      "execution_count": null,
      "metadata": {
        "id": "UAApeXVJAU5b"
      },
      "outputs": [],
      "source": [
        "import pandas as pd\n",
        "import numpy as np\n",
        "import statsmodels.api as sm\n",
        "\n",
        "def stepwise_selection(X, y,\n",
        "                       initial_list=[],\n",
        "                       threshold_in=0.05,\n",
        "                       threshold_out=0.05,\n",
        "                       verbose=True):\n",
        "    included = list(initial_list)\n",
        "    while True:\n",
        "        changed = False\n",
        "        excluded = list(set(X.columns) - set(included))\n",
        "        new_pval = pd.Series(index=excluded)\n",
        "        model = sm.OLS(y, sm.add_constant(pd.DataFrame(X[included]))).fit()\n",
        "        pvalues = model.pvalues.iloc[1:]\n",
        "        new_pval.loc[pvalues.index] = pvalues\n",
        "        best_pval = new_pval.min()\n",
        "        if best_pval < threshold_in:\n",
        "            best_feature = new_pval.idxmin()\n",
        "            included.append(best_feature)\n",
        "            changed = True\n",
        "            if verbose:\n",
        "                print('Add  {:30} with p-value {:.6}'.format(best_feature, best_pval))\n",
        "        model = sm.OLS(y, sm.add_constant(pd.DataFrame(X[included]))).fit()\n",
        "        pvalues = model.pvalues.iloc[1:]\n",
        "        worst_pval = pvalues.max()\n",
        "        if worst_pval > threshold_out:\n",
        "            changed = True\n",
        "            worst_feature = pvalues.idxmax()\n",
        "            included.remove(worst_feature)\n",
        "            if verbose:\n",
        "                print('Drop {:30} with p-value {:.6}'.format(worst_feature, worst_pval))\n",
        "        if not changed:\n",
        "            break\n",
        "    return included\n",
        "\n",
        "# Read the dataset\n",
        "dataset = pd.read_csv('data.csv')\n",
        "X = dataset[['variable1', 'variable2', 'variable3', 'variable4']]  # independent variables\n",
        "y = dataset['target']  # dependent variable\n",
        "\n",
        "result = stepwise_selection(X, y)\n",
        "print('Selected features:', result)"
      ]
    },
    {
      "cell_type": "markdown",
      "metadata": {
        "id": "3_eD07RyA5Hh"
      },
      "source": [
        "**10 DIMENSION REDUCTION** 10.1 demonstrate how you will identify multicollinearity using python"
      ]
    },
    {
      "cell_type": "code",
      "execution_count": null,
      "metadata": {
        "id": "E4ad_iCsAV8m"
      },
      "outputs": [],
      "source": [
        "import pandas as pd\n",
        "import numpy as np\n",
        "from statsmodels.stats.outliers_influence import variance_inflation_factor\n",
        "\n",
        "# Load the dataset\n",
        "data = pd.read_csv(\"your_dataset.csv\")\n",
        "\n",
        "# Create a correlation matrix\n",
        "corr_matrix = data.corr()\n",
        "\n",
        "# Display the correlation matrix\n",
        "print(\"Correlation Matrix:\")\n",
        "print(corr_matrix)\n",
        "print()\n",
        "\n",
        "# Calculate the variance inflation factor (VIF)\n",
        "vif = pd.DataFrame()\n",
        "vif[\"Variables\"] = data.columns\n",
        "vif[\"VIF\"] = [variance_inflation_factor(data.values, i) for i in range(data.shape[1])]\n",
        "\n",
        "# Display the VIF\n",
        "print(\"Variance Inflation Factor (VIF):\")\n",
        "print(vif)\n",
        "print()\n",
        "\n",
        "# Calculate eigenvalues\n",
        "eigenvalues, _ = np.linalg.eig(data.corr())\n",
        "\n",
        "# Display eigenvalues\n",
        "print(\"Eigenvalues:\")\n",
        "print(eigenvalues)\n",
        "print()"
      ]
    },
    {
      "cell_type": "markdown",
      "metadata": {
        "id": "R6S2pq66AXHG"
      },
      "source": [
        "10.2 demonstrate how you will apply principle components analysis using python"
      ]
    },
    {
      "cell_type": "code",
      "execution_count": null,
      "metadata": {
        "colab": {
          "base_uri": "https://localhost:8080/",
          "height": 472
        },
        "id": "FDp5azi1AWpL",
        "outputId": "61b4aa9e-7526-4d47-f4e8-16c94de3ace3"
      },
      "outputs": [
        {
          "data": {
            "image/png": "[encoded data removed]",
            "text/plain": [
              "<Figure size 640x480 with 1 Axes>"
            ]
          },
          "metadata": {},
          "output_type": "display_data"
        }
      ],
      "source": [
        "import numpy as np\n",
        "from sklearn.datasets import load_iris\n",
        "\n",
        "# Load the iris dataset\n",
        "iris = load_iris()\n",
        "X = iris.data  # features\n",
        "y = iris.target  # target variable\n",
        "from sklearn.preprocessing import StandardScaler\n",
        "\n",
        "# Standardize the features\n",
        "scaler = StandardScaler()\n",
        "X_scaled = scaler.fit_transform(X)\n",
        "from sklearn.decomposition import PCA\n",
        "\n",
        "# Create a PCA object\n",
        "pca = PCA(n_components=2)  # Choose the number of components to keep\n",
        "\n",
        "# Apply PCA to the standardized data\n",
        "X_pca = pca.fit_transform(X_scaled)\n",
        "import matplotlib.pyplot as plt\n",
        "\n",
        "# Create a scatter plot of the transformed data\n",
        "plt.scatter(X_pca[:, 0], X_pca[:, 1], c=y)\n",
        "plt.xlabel('Principal Component 1')\n",
        "plt.ylabel('Principal Component 2')\n",
        "plt.title('PCA on Iris Dataset')\n",
        "plt.show()"
      ]
    },
    {
      "cell_type": "markdown",
      "metadata": {
        "id": "sS6Rg74ECvo7"
      },
      "source": [
        "**11 LOGISTIC REGRESSION MODELLING **11.1 how to perform logistic regression using python"
      ]
    },
    {
      "cell_type": "code",
      "execution_count": null,
      "metadata": {
        "id": "OveWV2eXAYJk"
      },
      "outputs": [],
      "source": [
        "import numpy as np\n",
        "import pandas as pd\n",
        "from sklearn.model_selection import train_test_split\n",
        "from sklearn.linear_model import LogisticRegression\n",
        "from sklearn.metrics import accuracy_score\n",
        "data = pd.read_csv('dataset.csv')  #  'dataset.csv' is your dataset file path\n",
        "X = data.iloc[:, :-1]  # Features\n",
        "y = data.iloc[:, -1]  # Target variable\n",
        "\n",
        "# Split the dataset into training and test sets\n",
        "X_train, X_test, y_train, y_test = train_test_split(X, y, test_size=0.2, random_state=42)\n",
        "model = LogisticRegression()\n",
        "model.fit(X_train, y_train)\n",
        "y_pred = model.predict(X_test)\n",
        "accuracy = accuracy_score(y_test, y_pred)\n",
        "print('Accuracy: {:.2f}%'.format(accuracy * 100))"
      ]
    },
    {
      "cell_type": "markdown",
      "metadata": {
        "id": "zjQEU5kTB6Ux"
      },
      "source": [
        "11.2 how to perform possion regression using python"
      ]
    },
    {
      "cell_type": "code",
      "execution_count": null,
      "metadata": {
        "colab": {
          "base_uri": "https://localhost:8080/"
        },
        "id": "uZCPi8E3B5l0",
        "outputId": "9a0f9e0c-1f7f-4ecc-c38c-cea8268df05f"
      },
      "outputs": [
        {
          "name": "stdout",
          "output_type": "stream",
          "text": [
            "Optimization terminated successfully.\n",
            "         Current function value: 2.411129\n",
            "         Iterations 5\n",
            "                          Poisson Regression Results                          \n",
            "==============================================================================\n",
            "Dep. Variable:                      Y   No. Observations:                    5\n",
            "Model:                        Poisson   Df Residuals:                        2\n",
            "Method:                           MLE   Df Model:                            2\n",
            "Date:                Sun, 10 Dec 2023   Pseudo R-squ.:                  0.3458\n",
            "Time:                        09:36:47   Log-Likelihood:                -12.056\n",
            "converged:                       True   LL-Null:                       -18.428\n",
            "Covariance Type:            nonrobust   LLR p-value:                  0.001708\n",
            "==============================================================================\n",
            "                 coef    std err          z      P>|z|      [0.025      0.975]\n",
            "------------------------------------------------------------------------------\n",
            "const          2.2918      0.570      4.020      0.000       1.174       3.409\n",
            "X1             0.6433      1.458      0.441      0.659      -2.214       3.501\n",
            "X2            -1.0950      4.128     -0.265      0.791      -9.187       6.997\n",
            "==============================================================================\n"
          ]
        }
      ],
      "source": [
        "import numpy as np\n",
        "import pandas as pd\n",
        "import statsmodels.api as sm\n",
        "data = {'X1': [1, 2, 3, 4, 5],\n",
        "        'X2': [0.5, 0.8, 1.2, 1.5, 1.9],\n",
        "        'Y': [10, 15, 20, 25, 30]}\n",
        "df = pd.DataFrame(data)\n",
        "X = sm.add_constant(df[['X1', 'X2']])\n",
        "y = df['Y']\n",
        "model = sm.Poisson(y, X)\n",
        "result = model.fit(method='newton')\n",
        "print(result.summary())\n",
        "new_data = {'X1': [6, 7, 8],\n",
        "            'X2': [2.3, 2.7, 3.1]}\n",
        "df_new = pd.DataFrame(new_data)\n",
        "df_new = sm.add_constant(df_new)\n",
        "predicted_y = result.predict(df_new)\n"
      ]
    },
    {
      "cell_type": "markdown",
      "metadata": {
        "id": "MKx6S_xIB7YQ"
      },
      "source": [
        "**12 ASSOCIATION RULES** 12.1 how to mine association rules using python"
      ]
    },
    {
      "cell_type": "code",
      "execution_count": null,
      "metadata": {
        "colab": {
          "base_uri": "https://localhost:8080/",
          "height": 253
        },
        "id": "X-Qd1TmzB73Y",
        "outputId": "8fff753c-530c-45e3-f101-7b0a000303ba"
      },
      "outputs": [
        {
          "ename": "NameError",
          "evalue": "ignored",
          "output_type": "error",
          "traceback": [
            "\u001b[0;31m---------------------------------------------------------------------------\u001b[0m",
            "\u001b[0;31mNameError\u001b[0m                                 Traceback (most recent call last)",
            "\u001b[0;32m<ipython-input-1-85df1ed096a3>\u001b[0m in \u001b[0;36m<cell line: 14>\u001b[0;34m()\u001b[0m\n\u001b[1;32m     12\u001b[0m \u001b[0mte\u001b[0m \u001b[0;34m=\u001b[0m \u001b[0mTransactionEncoder\u001b[0m\u001b[0;34m(\u001b[0m\u001b[0;34m)\u001b[0m\u001b[0;34m\u001b[0m\u001b[0;34m\u001b[0m\u001b[0m\n\u001b[1;32m     13\u001b[0m \u001b[0mte_ary\u001b[0m \u001b[0;34m=\u001b[0m \u001b[0mte\u001b[0m\u001b[0;34m.\u001b[0m\u001b[0mfit\u001b[0m\u001b[0;34m(\u001b[0m\u001b[0mtransactions\u001b[0m\u001b[0;34m)\u001b[0m\u001b[0;34m.\u001b[0m\u001b[0mtransform\u001b[0m\u001b[0;34m(\u001b[0m\u001b[0mtransactions\u001b[0m\u001b[0;34m)\u001b[0m\u001b[0;34m\u001b[0m\u001b[0;34m\u001b[0m\u001b[0m\n\u001b[0;32m---> 14\u001b[0;31m \u001b[0mdf\u001b[0m \u001b[0;34m=\u001b[0m \u001b[0mpd\u001b[0m\u001b[0;34m.\u001b[0m\u001b[0mDataFrame\u001b[0m\u001b[0;34m(\u001b[0m\u001b[0mte_ary\u001b[0m\u001b[0;34m,\u001b[0m \u001b[0mcolumns\u001b[0m\u001b[0;34m=\u001b[0m\u001b[0mte\u001b[0m\u001b[0;34m.\u001b[0m\u001b[0mcolumns_\u001b[0m\u001b[0;34m)\u001b[0m\u001b[0;34m\u001b[0m\u001b[0;34m\u001b[0m\u001b[0m\n\u001b[0m\u001b[1;32m     15\u001b[0m \u001b[0;34m\u001b[0m\u001b[0m\n\u001b[1;32m     16\u001b[0m \u001b[0;31m# Generate frequent itemsets using Apriori algorithm\u001b[0m\u001b[0;34m\u001b[0m\u001b[0;34m\u001b[0m\u001b[0m\n",
            "\u001b[0;31mNameError\u001b[0m: name 'pd' is not defined"
          ]
        }
      ],
      "source": [
        "from mlxtend.preprocessing import TransactionEncoder\n",
        "from mlxtend.frequent_patterns import apriori, association_rules\n",
        "\n",
        "# Given transactions\n",
        "transactions = [['bread', 'milk', 'eggs'],\n",
        "                ['bread', 'butter'],\n",
        "                ['milk', 'butter'],\n",
        "                ['bread', 'milk', 'butter'],\n",
        "                ['bread', 'milk']]\n",
        "\n",
        "# Convert transaction data into a binary encoded NumPy array\n",
        "te = TransactionEncoder()\n",
        "te_ary = te.fit(transactions).transform(transactions)\n",
        "df = pd.DataFrame(te_ary, columns=te.columns_)\n",
        "\n",
        "# Generate frequent itemsets using Apriori algorithm\n",
        "frequent_itemsets = apriori(df, min_support=0.2, use_colnames=True)\n",
        "\n",
        "# Generate association rules\n",
        "association_rules = association_rules(frequent_itemsets, metric=\"confidence\", min_threshold=0.4)\n",
        "\n",
        "# Print the association rules\n",
        "print(association_rules)"
      ]
    },
    {
      "cell_type": "markdown",
      "metadata": {
        "id": "IeQyS8RnB-ly"
      },
      "source": [
        "12.2 how to apply confidence difference criterion using python"
      ]
    },
    {
      "cell_type": "code",
      "execution_count": null,
      "metadata": {
        "colab": {
          "base_uri": "https://localhost:8080/"
        },
        "id": "VGyh_D11B-GO",
        "outputId": "af229119-381c-48c8-9844-09a39cdc5ff0"
      },
      "outputs": [
        {
          "name": "stdout",
          "output_type": "stream",
          "text": [
            "Outliers: [2, 4, 6, 14, 15, 17]\n"
          ]
        },
        {
          "name": "stderr",
          "output_type": "stream",
          "text": [
            "/usr/local/lib/python3.10/dist-packages/ipykernel/ipkernel.py:283: DeprecationWarning: `should_run_async` will not call `transform_cell` automatically in the future. Please pass the result to `transformed_cell` argument and any exception that happen during thetransform in `preprocessing_exc_tuple` in IPython 7.17 and above.\n",
            "  and should_run_async(code)\n"
          ]
        }
      ],
      "source": [
        "import math\n",
        "\n",
        "def apply_confidence_difference_criterion(data, confidence):\n",
        "    n = len(data)\n",
        "    mean = sum(data) / n\n",
        "    std_dev = math.sqrt(sum((x - mean) ** 2 for x in data) / n)\n",
        "    margin_error = std_dev / math.sqrt(n)\n",
        "    confidence_interval = margin_error * confidence\n",
        "\n",
        "    outliers = []\n",
        "    for i in range(n):\n",
        "        lower_bound = mean - confidence_interval\n",
        "        upper_bound = mean + confidence_interval\n",
        "\n",
        "        if data[i] < lower_bound or data[i] > upper_bound:\n",
        "            outliers.append(data[i])\n",
        "\n",
        "    return outliers\n",
        "\n",
        "# Example usage\n",
        "data = [2, 4, 6, 9, 11, 14, 15, 17]\n",
        "confidence = 2.0  # 2 standard deviations\n",
        "\n",
        "outliers = apply_confidence_difference_criterion(data, confidence)\n",
        "print(\"Outliers:\", outliers)"
      ]
    },
    {
      "cell_type": "markdown",
      "metadata": {
        "id": "jveljX4lB_D6"
      },
      "source": [
        "12.3 how to apply the confidence quotient criterion using python"
      ]
    },
    {
      "cell_type": "code",
      "execution_count": null,
      "metadata": {
        "colab": {
          "base_uri": "https://localhost:8080/"
        },
        "id": "ldp1w7hrB92U",
        "outputId": "cc21fb7d-674a-4921-adfd-22dd54e82ade"
      },
      "outputs": [
        {
          "name": "stderr",
          "output_type": "stream",
          "text": [
            "/usr/local/lib/python3.10/dist-packages/ipykernel/ipkernel.py:283: DeprecationWarning: `should_run_async` will not call `transform_cell` automatically in the future. Please pass the result to `transformed_cell` argument and any exception that happen during thetransform in `preprocessing_exc_tuple` in IPython 7.17 and above.\n",
            "  and should_run_async(code)\n"
          ]
        },
        {
          "name": "stdout",
          "output_type": "stream",
          "text": [
            "Enter the total hapax items checked for human (H) and machine (M):\n",
            "Total hapax items (H): 3\n",
            "Total hapax items (M): 9\n",
            "\n",
            "Enter the number of hits for human (H) and machine (M):\n",
            "Hits (H): 6\n",
            "Hits (M): 5\n",
            "\n",
            "Confidence Quotient: 1.2777777777777777\n",
            "Criterion is met - High confidence!\n"
          ]
        }
      ],
      "source": [
        "def calculate_confidence_quotient(total_h, total_m, hits_h, hits_m):\n",
        "    \"\"\"Calculates the confidence quotient using the given values.\"\"\"\n",
        "    confidence_h = hits_h / total_h if total_h != 0 else 0\n",
        "    confidence_m = hits_m / total_m if total_m != 0 else 0\n",
        "\n",
        "    confidence_quotient = 0.5 * (confidence_h + confidence_m)\n",
        "    return confidence_quotient\n",
        "\n",
        "def main():\n",
        "    # Input from the user\n",
        "    print(\"Enter the total hapax items checked for human (H) and machine (M):\")\n",
        "    total_h = int(input(\"Total hapax items (H): \"))\n",
        "    total_m = int(input(\"Total hapax items (M): \"))\n",
        "\n",
        "    print(\"\\nEnter the number of hits for human (H) and machine (M):\")\n",
        "    hits_h = int(input(\"Hits (H): \"))\n",
        "    hits_m = int(input(\"Hits (M): \"))\n",
        "\n",
        "    # Calculate the confidence quotient\n",
        "    confidence_quotient = calculate_confidence_quotient(total_h, total_m, hits_h, hits_m)\n",
        "\n",
        "    # Check if the criterion is met\n",
        "    if confidence_quotient > 0.5:\n",
        "        result = \"Criterion is met - High confidence!\"\n",
        "    elif confidence_quotient == 0.5:\n",
        "        result = \"Criterion is met - Neutral confidence!\"\n",
        "    else:\n",
        "        result = \"Criterion is not met - Low confidence!\"\n",
        "\n",
        "    # Output the result\n",
        "    print(\"\\nConfidence Quotient:\", confidence_quotient)\n",
        "    print(result)\n",
        "\n",
        "# Run the program\n",
        "main()"
      ]
    }
  ],
  "metadata": {
    "colab": {
      "toc_visible": true,
      "provenance": [],
      "authorship_tag": "ABX9TyNTyKOBzBCWhAZ0ZjjLA/gn",
      "include_colab_link": true
    },
    "kernelspec": {
      "display_name": "Python 3",
      "name": "python3"
    },
    "language_info": {
      "name": "python"
    }
  },
  "nbformat": 4,
  "nbformat_minor": 0
}